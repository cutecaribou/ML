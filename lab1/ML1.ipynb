{
 "cells": [
  {
   "cell_type": "markdown",
   "metadata": {
    "id": "jMp_Sfk5x8P5"
   },
   "source": [
    "# Лабораторная работа 1\n"
   ]
  },
  {
   "cell_type": "code",
   "execution_count": 1,
   "metadata": {
    "id": "TGwQjfRSrWBA"
   },
   "outputs": [],
   "source": [
    "import numpy as np\n",
    "import pandas as pd\n",
    "import seaborn as sns\n",
    "import matplotlib.pyplot as plt\n",
    "import pickle\n",
    "from sklearn.preprocessing import StandardScaler, Normalizer, normalize\n",
    "from sklearn.pipeline import Pipeline\n",
    "from sklearn.metrics import euclidean_distances, accuracy_score, confusion_matrix, precision_score, recall_score, RocCurveDisplay, ConfusionMatrixDisplay\n",
    "from sklearn.model_selection import train_test_split, GridSearchCV, RandomizedSearchCV\n",
    "from sklearn.base import BaseEstimator, ClassifierMixin\n",
    "from sklearn.neighbors import KNeighborsClassifier\n",
    "from sklearn.naive_bayes import GaussianNB\n",
    "from sklearn.linear_model import SGDClassifier\n",
    "from sklearn.utils.validation import check_X_y, check_is_fitted\n",
    "from sklearn.svm import SVC\n",
    "from sklearn.linear_model import LogisticRegression"
   ]
  },
  {
   "cell_type": "markdown",
   "metadata": {
    "id": "w7iYi7-WyLIw"
   },
   "source": [
    "## Подготовка датасета"
   ]
  },
  {
   "cell_type": "code",
   "execution_count": 2,
   "metadata": {
    "id": "lFJrBoOcwveD"
   },
   "outputs": [],
   "source": [
    "data = pd.read_csv('telecom_churn.csv')"
   ]
  },
  {
   "cell_type": "code",
   "execution_count": 3,
   "metadata": {
    "colab": {
     "base_uri": "https://localhost:8080/",
     "height": 206
    },
    "executionInfo": {
     "elapsed": 22,
     "status": "ok",
     "timestamp": 1662120889431,
     "user": {
      "displayName": "Sunny Flowerr",
      "userId": "08019944996809046050"
     },
     "user_tz": -180
    },
    "id": "Dt49tbW6wvq8",
    "outputId": "e3b5f8b0-2fe7-4c4a-f84e-2a973c8acc6b"
   },
   "outputs": [
    {
     "data": {
      "text/html": [
       "<div>\n",
       "<style scoped>\n",
       "    .dataframe tbody tr th:only-of-type {\n",
       "        vertical-align: middle;\n",
       "    }\n",
       "\n",
       "    .dataframe tbody tr th {\n",
       "        vertical-align: top;\n",
       "    }\n",
       "\n",
       "    .dataframe thead th {\n",
       "        text-align: right;\n",
       "    }\n",
       "</style>\n",
       "<table border=\"1\" class=\"dataframe\">\n",
       "  <thead>\n",
       "    <tr style=\"text-align: right;\">\n",
       "      <th></th>\n",
       "      <th>Churn</th>\n",
       "      <th>AccountWeeks</th>\n",
       "      <th>ContractRenewal</th>\n",
       "      <th>DataPlan</th>\n",
       "      <th>DataUsage</th>\n",
       "      <th>CustServCalls</th>\n",
       "      <th>DayMins</th>\n",
       "      <th>DayCalls</th>\n",
       "      <th>MonthlyCharge</th>\n",
       "      <th>OverageFee</th>\n",
       "      <th>RoamMins</th>\n",
       "    </tr>\n",
       "  </thead>\n",
       "  <tbody>\n",
       "    <tr>\n",
       "      <th>0</th>\n",
       "      <td>0</td>\n",
       "      <td>128</td>\n",
       "      <td>1</td>\n",
       "      <td>1</td>\n",
       "      <td>2.7</td>\n",
       "      <td>1</td>\n",
       "      <td>265.1</td>\n",
       "      <td>110</td>\n",
       "      <td>89.0</td>\n",
       "      <td>9.87</td>\n",
       "      <td>10.0</td>\n",
       "    </tr>\n",
       "    <tr>\n",
       "      <th>1</th>\n",
       "      <td>0</td>\n",
       "      <td>107</td>\n",
       "      <td>1</td>\n",
       "      <td>1</td>\n",
       "      <td>3.7</td>\n",
       "      <td>1</td>\n",
       "      <td>161.6</td>\n",
       "      <td>123</td>\n",
       "      <td>82.0</td>\n",
       "      <td>9.78</td>\n",
       "      <td>13.7</td>\n",
       "    </tr>\n",
       "    <tr>\n",
       "      <th>2</th>\n",
       "      <td>0</td>\n",
       "      <td>137</td>\n",
       "      <td>1</td>\n",
       "      <td>0</td>\n",
       "      <td>0.0</td>\n",
       "      <td>0</td>\n",
       "      <td>243.4</td>\n",
       "      <td>114</td>\n",
       "      <td>52.0</td>\n",
       "      <td>6.06</td>\n",
       "      <td>12.2</td>\n",
       "    </tr>\n",
       "    <tr>\n",
       "      <th>3</th>\n",
       "      <td>0</td>\n",
       "      <td>84</td>\n",
       "      <td>0</td>\n",
       "      <td>0</td>\n",
       "      <td>0.0</td>\n",
       "      <td>2</td>\n",
       "      <td>299.4</td>\n",
       "      <td>71</td>\n",
       "      <td>57.0</td>\n",
       "      <td>3.10</td>\n",
       "      <td>6.6</td>\n",
       "    </tr>\n",
       "    <tr>\n",
       "      <th>4</th>\n",
       "      <td>0</td>\n",
       "      <td>75</td>\n",
       "      <td>0</td>\n",
       "      <td>0</td>\n",
       "      <td>0.0</td>\n",
       "      <td>3</td>\n",
       "      <td>166.7</td>\n",
       "      <td>113</td>\n",
       "      <td>41.0</td>\n",
       "      <td>7.42</td>\n",
       "      <td>10.1</td>\n",
       "    </tr>\n",
       "  </tbody>\n",
       "</table>\n",
       "</div>"
      ],
      "text/plain": [
       "   Churn  AccountWeeks  ContractRenewal  DataPlan  DataUsage  CustServCalls  \\\n",
       "0      0           128                1         1        2.7              1   \n",
       "1      0           107                1         1        3.7              1   \n",
       "2      0           137                1         0        0.0              0   \n",
       "3      0            84                0         0        0.0              2   \n",
       "4      0            75                0         0        0.0              3   \n",
       "\n",
       "   DayMins  DayCalls  MonthlyCharge  OverageFee  RoamMins  \n",
       "0    265.1       110           89.0        9.87      10.0  \n",
       "1    161.6       123           82.0        9.78      13.7  \n",
       "2    243.4       114           52.0        6.06      12.2  \n",
       "3    299.4        71           57.0        3.10       6.6  \n",
       "4    166.7       113           41.0        7.42      10.1  "
      ]
     },
     "execution_count": 3,
     "metadata": {},
     "output_type": "execute_result"
    }
   ],
   "source": [
    "data.head()"
   ]
  },
  {
   "cell_type": "code",
   "execution_count": 4,
   "metadata": {
    "colab": {
     "base_uri": "https://localhost:8080/"
    },
    "executionInfo": {
     "elapsed": 17,
     "status": "ok",
     "timestamp": 1662120892094,
     "user": {
      "displayName": "Sunny Flowerr",
      "userId": "08019944996809046050"
     },
     "user_tz": -180
    },
    "id": "DrMUVQBewvty",
    "outputId": "d89b4a3e-8985-4b94-9c8b-c2ebe0f368fb"
   },
   "outputs": [
    {
     "data": {
      "text/plain": [
       "(3333, 11)"
      ]
     },
     "execution_count": 4,
     "metadata": {},
     "output_type": "execute_result"
    }
   ],
   "source": [
    "data.shape"
   ]
  },
  {
   "cell_type": "code",
   "execution_count": 5,
   "metadata": {
    "colab": {
     "base_uri": "https://localhost:8080/",
     "height": 281
    },
    "executionInfo": {
     "elapsed": 16,
     "status": "ok",
     "timestamp": 1662120893834,
     "user": {
      "displayName": "Sunny Flowerr",
      "userId": "08019944996809046050"
     },
     "user_tz": -180
    },
    "id": "7BIn_23rwvvY",
    "outputId": "77fbef78-bc2f-48a1-8a5c-d62f7efcf9dc"
   },
   "outputs": [
    {
     "data": {
      "image/png": "[encoded data removed]",
      "text/plain": [
       "<Figure size 432x288 with 1 Axes>"
      ]
     },
     "metadata": {
      "needs_background": "light"
     },
     "output_type": "display_data"
    }
   ],
   "source": [
    "indexes = [0, 1]\n",
    "cnts = data['Churn'].value_counts().values\n",
    "\n",
    "plt.title(\"Соотношение классов\")\n",
    "plt.xticks(indexes)\n",
    "plt.bar(indexes, cnts)\n",
    "plt.show()"
   ]
  },
  {
   "cell_type": "markdown",
   "metadata": {
    "id": "E-VTQUP1yqlA"
   },
   "source": [
    "Для улучшения соотношения сделаем oversampling"
   ]
  },
  {
   "cell_type": "code",
   "execution_count": null,
   "metadata": {
    "id": "c80f6b4b"
   },
   "outputs": [],
   "source": [
    "sample = data[data['Churn'] == 1]\n",
    "while data[data['Churn'] == 1].shape[0] + sample.shape[0] < data[data['Churn'] == 0].shape[0]:\n",
    "    data = pd.concat([data, sample])\n",
    "data = pd.concat([data, sample.iloc[:data[data['Churn'] == 0].shape[0] - data[data['Churn'] == 1].shape[0]]])"
   ]
  },
  {
   "cell_type": "code",
   "execution_count": null,
   "metadata": {
    "colab": {
     "base_uri": "https://localhost:8080/",
     "height": 281
    },
    "executionInfo": {
     "elapsed": 462,
     "status": "ok",
     "timestamp": 1662120897045,
     "user": {
      "displayName": "Sunny Flowerr",
      "userId": "08019944996809046050"
     },
     "user_tz": -180
    },
    "id": "XEGVgwrzyoiN",
    "outputId": "59e9b1f0-aa2c-4ff5-dbd2-ecc969314618"
   },
   "outputs": [
    {
     "data": {
      "image/png": "[encoded data removed]",
      "text/plain": [
       "<Figure size 432x288 with 1 Axes>"
      ]
     },
     "metadata": {
      "needs_background": "light"
     },
     "output_type": "display_data"
    }
   ],
   "source": [
    "indexes = [0, 1]\n",
    "cnts = data['Churn'].value_counts().values\n",
    "\n",
    "plt.title(\"Соотношение классов\")\n",
    "plt.xticks(indexes)\n",
    "plt.bar(indexes, cnts)\n",
    "plt.show()"
   ]
  },
  {
   "cell_type": "code",
   "execution_count": null,
   "metadata": {
    "colab": {
     "base_uri": "https://localhost:8080/"
    },
    "executionInfo": {
     "elapsed": 357,
     "status": "ok",
     "timestamp": 1662120900391,
     "user": {
      "displayName": "Sunny Flowerr",
      "userId": "08019944996809046050"
     },
     "user_tz": -180
    },
    "id": "tyDNM-2oyoj8",
    "outputId": "b607410b-3b2c-4067-d720-8618d6f71f36"
   },
   "outputs": [
    {
     "data": {
      "text/plain": [
       "(5700, 11)"
      ]
     },
     "execution_count": 9,
     "metadata": {},
     "output_type": "execute_result"
    }
   ],
   "source": [
    "data.shape"
   ]
  },
  {
   "cell_type": "code",
   "execution_count": null,
   "metadata": {
    "colab": {
     "base_uri": "https://localhost:8080/"
    },
    "executionInfo": {
     "elapsed": 16,
     "status": "ok",
     "timestamp": 1662120902023,
     "user": {
      "displayName": "Sunny Flowerr",
      "userId": "08019944996809046050"
     },
     "user_tz": -180
    },
    "id": "Ooka6lHFyols",
    "outputId": "f940ad7a-94c5-423d-a7bd-30408711d48e"
   },
   "outputs": [
    {
     "name": "stdout",
     "output_type": "stream",
     "text": [
      "(5700, 10)\n",
      "(5700,)\n"
     ]
    }
   ],
   "source": [
    "X = data.drop('Churn', axis=1).to_numpy()\n",
    "y = data['Churn'].to_numpy()\n",
    "print(X.shape)\n",
    "print(y.shape)"
   ]
  },
  {
   "cell_type": "markdown",
   "metadata": {
    "id": "isGGVlN8zPhs"
   },
   "source": [
    "Проведем нормализацию признаков:"
   ]
  },
  {
   "cell_type": "code",
   "execution_count": null,
   "metadata": {
    "id": "WgOPrx9XzRmp"
   },
   "outputs": [],
   "source": [
    "X = normalize(X, norm = \"max\", axis = 0)"
   ]
  },
  {
   "cell_type": "markdown",
   "metadata": {
    "id": "rpFwgY9gzhGB"
   },
   "source": [
    "Разбиваем на обучающую и тестовую выборки:"
   ]
  },
  {
   "cell_type": "code",
   "execution_count": null,
   "metadata": {
    "colab": {
     "base_uri": "https://localhost:8080/"
    },
    "executionInfo": {
     "elapsed": 334,
     "status": "ok",
     "timestamp": 1662120906829,
     "user": {
      "displayName": "Sunny Flowerr",
      "userId": "08019944996809046050"
     },
     "user_tz": -180
    },
    "id": "OyS0ul6Ezh3g",
    "outputId": "7b5658e0-0791-44d6-8119-bbd339f1d269"
   },
   "outputs": [
    {
     "name": "stdout",
     "output_type": "stream",
     "text": [
      "train_X shape: (4560, 10)\n",
      "train_Y shape: (4560,)\n",
      "test_X shape: (1140, 10)\n",
      "test_Y shape: (1140,)\n"
     ]
    }
   ],
   "source": [
    "train_X, test_X, train_y, test_y = train_test_split(X, y, train_size = 0.8, random_state = 1, shuffle = True)\n",
    "\n",
    "print(\"train_X shape: {}\".format(train_X.shape))\n",
    "print(\"train_Y shape: {}\".format(train_y.shape))\n",
    "print(\"test_X shape: {}\".format(test_X.shape))\n",
    "print(\"test_Y shape: {}\".format(test_y.shape))"
   ]
  },
  {
   "cell_type": "markdown",
   "metadata": {
    "id": "HtYm69oMzq3k"
   },
   "source": [
    "Опишем универсальную функцию score, высчитывающую accuracy, precision и recall:"
   ]
  },
  {
   "cell_type": "code",
   "execution_count": null,
   "metadata": {
    "id": "8NgOEN_izsJh"
   },
   "outputs": [],
   "source": [
    "def scores(model, data, labels):\n",
    "    pred_labels = model.predict(data)\n",
    "    print('Accuracy:', accuracy_score(labels, pred_labels))\n",
    "    print('Precision:', precision_score(labels, pred_labels))\n",
    "    print('Recall:', recall_score(labels, pred_labels))\n",
    "    figure = plt.figure(figsize=(20, 5))\n",
    "    matrix = confusion_matrix(labels, pred_labels)\n",
    "    ax = plt.subplot(1, 2, 1)\n",
    "    ConfusionMatrixDisplay(matrix).plot(ax=ax)\n",
    "    plt.subplots_adjust(wspace=0.3)\n",
    "    plt.show()"
   ]
  },
  {
   "cell_type": "markdown",
   "metadata": {
    "id": "_rPRc-nE0LKP"
   },
   "source": [
    "# SVM"
   ]
  },
  {
   "cell_type": "markdown",
   "metadata": {
    "id": "Ncms3ZgR0Nln"
   },
   "source": [
    "##### Собственный классификатор"
   ]
  },
  {
   "cell_type": "code",
   "execution_count": null,
   "metadata": {
    "id": "K4IYQSw80NDW"
   },
   "outputs": [],
   "source": [
    "class SVM(BaseEstimator, ClassifierMixin):\n",
    "    def __init__(self, lr=0.1, batch=10, epochs=1, alpha=0.0001):\n",
    "        self.lr = lr\n",
    "        self.batch = batch\n",
    "        self.epochs = epochs\n",
    "        self.alpha = alpha\n",
    "    \n",
    "    def fit(self, data, labels):\n",
    "        self.w = np.random.normal(0, 1, (data.shape[1]+1,))\n",
    "        data = np.concatenate((data, np.ones((data.shape[0],1))), axis=1)\n",
    "        labels = labels * 2 - 1\n",
    "        for _ in range(self.epochs):\n",
    "            for i in range(self.batch, len(data), self.batch):\n",
    "                data_batch = data[i-self.batch:i]\n",
    "                labels_batch = labels[i-self.batch:i]\n",
    "                \n",
    "                grad = 2 * self.alpha * self.w\n",
    "                for i, x in enumerate(data_batch):\n",
    "                    if 1 - x.dot(self.w) * labels_batch[i] > 0:\n",
    "                        grad -= x * labels_batch[i]\n",
    "                \n",
    "                self.w -= self.lr * grad\n",
    "        return self\n",
    "\n",
    "    def predict(self, data):\n",
    "        return (np.sign(np.concatenate((data, np.ones((data.shape[0],1))), axis=1).dot(self.w)) + 1) / 2"
   ]
  },
  {
   "cell_type": "code",
   "execution_count": null,
   "metadata": {
    "colab": {
     "base_uri": "https://localhost:8080/"
    },
    "executionInfo": {
     "elapsed": 39018,
     "status": "ok",
     "timestamp": 1662053093462,
     "user": {
      "displayName": "Sunny Flowerr",
      "userId": "08019944996809046050"
     },
     "user_tz": -180
    },
    "id": "LayYHXBf0b9H",
    "outputId": "1bf0122d-d136-4886-d392-3d83e12ce4e7"
   },
   "outputs": [
    {
     "name": "stdout",
     "output_type": "stream",
     "text": [
      "{'svm__alpha': 0.01, 'svm__batch': 10, 'svm__epochs': 5, 'svm__lr': 0.001}\n",
      "0.7671052631578947\n"
     ]
    }
   ],
   "source": [
    "gscv = GridSearchCV(Pipeline([('scaler', StandardScaler()), ('svm', SVM())]),\n",
    "                    {'svm__lr': [0.1, 0.01, 0.001], 'svm__epochs': [1, 5, 10], \n",
    "                     'svm__batch': [5, 10, 20], 'svm__alpha': [0.01, 0.001, 0.0001]})\n",
    "gscv.fit(train_X, train_y)\n",
    "print(gscv.best_params_, gscv.best_score_, sep = '\\n')"
   ]
  },
  {
   "cell_type": "code",
   "execution_count": null,
   "metadata": {
    "colab": {
     "base_uri": "https://localhost:8080/",
     "height": 391
    },
    "executionInfo": {
     "elapsed": 469,
     "status": "ok",
     "timestamp": 1662053097641,
     "user": {
      "displayName": "Sunny Flowerr",
      "userId": "08019944996809046050"
     },
     "user_tz": -180
    },
    "id": "g3slvHRV0k5s",
    "outputId": "fe55c132-1524-4747-a2a3-805d9d8db439"
   },
   "outputs": [
    {
     "name": "stdout",
     "output_type": "stream",
     "text": [
      "Accuracy: 0.7535087719298246\n",
      "Precision: 0.7531083481349912\n",
      "Recall: 0.7491166077738516\n"
     ]
    },
    {
     "data": {
      "image/png": "[encoded data removed]",
      "text/plain": [
       "<Figure size 1440x360 with 2 Axes>"
      ]
     },
     "metadata": {
      "needs_background": "light"
     },
     "output_type": "display_data"
    }
   ],
   "source": [
    "my_svm = gscv.best_estimator_\n",
    "scores(my_svm, test_X, test_y)"
   ]
  },
  {
   "cell_type": "markdown",
   "metadata": {
    "id": "AsfXMOAf1Hbh"
   },
   "source": [
    "##### Готовый классификатор"
   ]
  },
  {
   "cell_type": "code",
   "execution_count": null,
   "metadata": {
    "colab": {
     "base_uri": "https://localhost:8080/"
    },
    "executionInfo": {
     "elapsed": 3588,
     "status": "ok",
     "timestamp": 1662053107593,
     "user": {
      "displayName": "Sunny Flowerr",
      "userId": "08019944996809046050"
     },
     "user_tz": -180
    },
    "id": "j5JR4QO71IUJ",
    "outputId": "78933e3c-9239-4b9f-b30c-ee4f3336b99a"
   },
   "outputs": [
    {
     "name": "stdout",
     "output_type": "stream",
     "text": [
      "{'SKL_SVC__kernel': 'poly'}\n",
      "0.8576754385964913\n"
     ]
    }
   ],
   "source": [
    "sklearn_svm = GridSearchCV(Pipeline([('SKL_SVC', SVC())]), {'SKL_SVC__kernel' : ['linear', 'poly']})\n",
    "\n",
    "sklearn_svm.fit(train_X, train_y)\n",
    "print(sklearn_svm.best_params_, sklearn_svm.best_score_, sep = '\\n')"
   ]
  },
  {
   "cell_type": "code",
   "execution_count": null,
   "metadata": {
    "colab": {
     "base_uri": "https://localhost:8080/",
     "height": 391
    },
    "executionInfo": {
     "elapsed": 331,
     "status": "ok",
     "timestamp": 1662053110672,
     "user": {
      "displayName": "Sunny Flowerr",
      "userId": "08019944996809046050"
     },
     "user_tz": -180
    },
    "id": "-GQQThoT1SHc",
    "outputId": "be89b132-5549-4a82-d59a-68c3fc0a25b7"
   },
   "outputs": [
    {
     "name": "stdout",
     "output_type": "stream",
     "text": [
      "Accuracy: 0.8456140350877193\n",
      "Precision: 0.8457446808510638\n",
      "Recall: 0.842756183745583\n"
     ]
    },
    {
     "data": {
      "image/png": "[encoded data removed]",
      "text/plain": [
       "<Figure size 1440x360 with 2 Axes>"
      ]
     },
     "metadata": {
      "needs_background": "light"
     },
     "output_type": "display_data"
    }
   ],
   "source": [
    "lib_svm = sklearn_svm.best_estimator_\n",
    "scores(lib_svm, test_X, test_y)"
   ]
  },
  {
   "cell_type": "markdown",
   "metadata": {
    "id": "ecb9daPR1Yf4"
   },
   "source": [
    "## KNN"
   ]
  },
  {
   "cell_type": "markdown",
   "metadata": {
    "id": "KRo4n7Qu1exA"
   },
   "source": [
    "##### Собственный классификатор"
   ]
  },
  {
   "cell_type": "code",
   "execution_count": null,
   "metadata": {
    "id": "4Ie-Y6nJ1iOe"
   },
   "outputs": [],
   "source": [
    "class KNN(BaseEstimator, ClassifierMixin):\n",
    "    def __init__(self, k = 1):\n",
    "        self.k = k\n",
    "    \n",
    "    def fit(self, data, labels):\n",
    "        self.data = data\n",
    "        self.labels = labels\n",
    "        return self\n",
    "    \n",
    "    def predict(self, data):\n",
    "        res = np.ndarray((data.shape[0],))\n",
    "        for i, x in enumerate(data):\n",
    "            distances = euclidean_distances([x], self.data)[0]\n",
    "            neighbors = np.argpartition(distances, kth = self.k - 1)\n",
    "            k_neighbors = neighbors[:self.k]\n",
    "            values, counts = np.unique(self.labels[k_neighbors], return_counts = True)\n",
    "            res[i] = values[counts.argmax()]\n",
    "        return res"
   ]
  },
  {
   "cell_type": "code",
   "execution_count": null,
   "metadata": {
    "colab": {
     "base_uri": "https://localhost:8080/"
    },
    "executionInfo": {
     "elapsed": 12643,
     "status": "ok",
     "timestamp": 1662121235260,
     "user": {
      "displayName": "Sunny Flowerr",
      "userId": "08019944996809046050"
     },
     "user_tz": -180
    },
    "id": "W_fvdq9F1nja",
    "outputId": "3efec8ef-17e1-40d4-bb8d-8a6cdde4e807"
   },
   "outputs": [
    {
     "name": "stdout",
     "output_type": "stream",
     "text": [
      "{'knn__k': 3}\n",
      "0.9153508771929824\n"
     ]
    }
   ],
   "source": [
    "gscv = GridSearchCV(Pipeline([('scaler', StandardScaler()), ('knn', KNN())]),\n",
    "                    {'knn__k': [3, 5, 9, 11, 15]})\n",
    "gscv.fit(train_X, train_y)\n",
    "print(gscv.best_params_, gscv.best_score_, sep='\\n')"
   ]
  },
  {
   "cell_type": "code",
   "execution_count": null,
   "metadata": {
    "colab": {
     "base_uri": "https://localhost:8080/",
     "height": 391
    },
    "executionInfo": {
     "elapsed": 1141,
     "status": "ok",
     "timestamp": 1662121240042,
     "user": {
      "displayName": "Sunny Flowerr",
      "userId": "08019944996809046050"
     },
     "user_tz": -180
    },
    "id": "uszuX-kS1yxX",
    "outputId": "a2f3eb00-ffa6-4536-ea7d-4aaeba24e4d6"
   },
   "outputs": [
    {
     "name": "stdout",
     "output_type": "stream",
     "text": [
      "Accuracy: 0.9245614035087719\n",
      "Precision: 0.8738317757009346\n",
      "Recall: 0.991166077738516\n"
     ]
    },
    {
     "data": {
      "image/png": "[encoded data removed]",
      "text/plain": [
       "<Figure size 1440x360 with 2 Axes>"
      ]
     },
     "metadata": {
      "needs_background": "light"
     },
     "output_type": "display_data"
    }
   ],
   "source": [
    "my_knn = gscv.best_estimator_\n",
    "scores(my_knn, test_X, test_y)"
   ]
  },
  {
   "cell_type": "markdown",
   "metadata": {
    "id": "fTvuxtyB147-"
   },
   "source": [
    "##### Готовый классификатор"
   ]
  },
  {
   "cell_type": "code",
   "execution_count": null,
   "metadata": {
    "colab": {
     "base_uri": "https://localhost:8080/"
    },
    "executionInfo": {
     "elapsed": 2007,
     "status": "ok",
     "timestamp": 1662121246125,
     "user": {
      "displayName": "Sunny Flowerr",
      "userId": "08019944996809046050"
     },
     "user_tz": -180
    },
    "id": "Ity9L4PP17fy",
    "outputId": "66d35ce2-4a44-49d2-e291-0d8a7948731f"
   },
   "outputs": [
    {
     "name": "stdout",
     "output_type": "stream",
     "text": [
      "{'knn__n_neighbors': 3}\n",
      "0.9153508771929824\n"
     ]
    }
   ],
   "source": [
    "sklearn_gscv = GridSearchCV(Pipeline([('scaler', StandardScaler()), ('knn', KNeighborsClassifier())]),\n",
    "                    {'knn__n_neighbors': [3, 5, 9, 11, 15]})\n",
    "sklearn_gscv.fit(train_X, train_y)\n",
    "print(sklearn_gscv.best_params_, sklearn_gscv.best_score_, sep='\\n')"
   ]
  },
  {
   "cell_type": "code",
   "execution_count": null,
   "metadata": {
    "colab": {
     "base_uri": "https://localhost:8080/",
     "height": 391
    },
    "executionInfo": {
     "elapsed": 353,
     "status": "ok",
     "timestamp": 1662053641239,
     "user": {
      "displayName": "Sunny Flowerr",
      "userId": "08019944996809046050"
     },
     "user_tz": -180
    },
    "id": "omqFQk232Bl1",
    "outputId": "65ad195b-505a-4281-fd89-5f5e50f49f8b"
   },
   "outputs": [
    {
     "name": "stdout",
     "output_type": "stream",
     "text": [
      "Accuracy: 0.9245614035087719\n",
      "Precision: 0.8738317757009346\n",
      "Recall: 0.991166077738516\n"
     ]
    },
    {
     "data": {
      "image/png": "[encoded data removed]",
      "text/plain": [
       "<Figure size 1440x360 with 2 Axes>"
      ]
     },
     "metadata": {
      "needs_background": "light"
     },
     "output_type": "display_data"
    }
   ],
   "source": [
    "lib_knn = sklearn_gscv.best_estimator_\n",
    "scores(lib_knn, test_X, test_y)"
   ]
  },
  {
   "cell_type": "markdown",
   "metadata": {
    "id": "cUU2MOTS2XtQ"
   },
   "source": [
    "## Naive Bayes"
   ]
  },
  {
   "cell_type": "markdown",
   "metadata": {
    "id": "LPkpQvAw2iBy"
   },
   "source": [
    "##### Собственный классификатор"
   ]
  },
  {
   "cell_type": "code",
   "execution_count": null,
   "metadata": {
    "id": "1KUtS01tHnrQ"
   },
   "outputs": [],
   "source": [
    "class NaiveBayes(BaseEstimator, ClassifierMixin):\n",
    "    def __init__(self):\n",
    "        pass\n",
    "\n",
    "    def normal_gauss(self, x, mu, sigma):\n",
    "        return (np.exp(-((x - mu) / sigma)**2 / 2)) / np.float32(sigma * np.sqrt(2 * np.pi))\n",
    "\n",
    "    def fit(self, X, y):\n",
    "        X, y = check_X_y(X, y)\n",
    "        self.X = X\n",
    "        self.y = y\n",
    "        labels, counts = np.unique(self.y, return_counts=True)\n",
    "        self.standard_deviations = np.array([self.X[self.y == label].std(axis=0) for label in labels])\n",
    "        self.means = np.array([self.X[self.y == label].mean(axis=0) for label in labels])\n",
    "        self.y_pred = np.array([count / self.y.shape[0] for count in counts])\n",
    "        self.labels = labels\n",
    "        return self\n",
    "         \n",
    "    def predict(self, X):\n",
    "        check_is_fitted(self, ['X', 'y'])\n",
    "        result = np.ndarray(X.shape[0])\n",
    "        for (num_x, x) in enumerate(X):\n",
    "            predictions = np.array(self.y_pred)\n",
    "            for (num_label, label) in enumerate(self.labels):\n",
    "                predictions[num_label] *= np.prod(np.array([self.normal_gauss(x[i], self.means[num_label][i], self.standard_deviations[num_label][i]) for i in range(X.shape[1])]))\n",
    "            result[num_x] = np.argmax(predictions)\n",
    "        return result"
   ]
  },
  {
   "cell_type": "code",
   "execution_count": null,
   "metadata": {
    "colab": {
     "base_uri": "https://localhost:8080/",
     "height": 391
    },
    "executionInfo": {
     "elapsed": 1445,
     "status": "ok",
     "timestamp": 1662053788985,
     "user": {
      "displayName": "Sunny Flowerr",
      "userId": "08019944996809046050"
     },
     "user_tz": -180
    },
    "id": "_QFJZsMaHz7u",
    "outputId": "527001e8-bb26-4b4c-ce37-2a51b93a9c6a"
   },
   "outputs": [
    {
     "name": "stdout",
     "output_type": "stream",
     "text": [
      "Accuracy: 0.8070175438596491\n",
      "Precision: 0.8276515151515151\n",
      "Recall: 0.7720848056537103\n"
     ]
    },
    {
     "data": {
      "image/png": "[encoded data removed]",
      "text/plain": [
       "<Figure size 1440x360 with 2 Axes>"
      ]
     },
     "metadata": {
      "needs_background": "light"
     },
     "output_type": "display_data"
    }
   ],
   "source": [
    "my_bayes = Pipeline([(\"NB\", NaiveBayes())])\n",
    "my_bayes.fit(train_X, train_y)\n",
    "scores(my_bayes, test_X, test_y)"
   ]
  },
  {
   "cell_type": "markdown",
   "metadata": {
    "id": "QtOILB6t3Dxt"
   },
   "source": [
    "##### Готовый классификатор"
   ]
  },
  {
   "cell_type": "code",
   "execution_count": null,
   "metadata": {
    "colab": {
     "base_uri": "https://localhost:8080/",
     "height": 391
    },
    "executionInfo": {
     "elapsed": 326,
     "status": "ok",
     "timestamp": 1662053885021,
     "user": {
      "displayName": "Sunny Flowerr",
      "userId": "08019944996809046050"
     },
     "user_tz": -180
    },
    "id": "6eP4XGs33Hcu",
    "outputId": "b80d9026-139c-4e26-f3fe-03ba4da9e32c"
   },
   "outputs": [
    {
     "name": "stdout",
     "output_type": "stream",
     "text": [
      "Accuracy: 0.8070175438596491\n",
      "Precision: 0.8276515151515151\n",
      "Recall: 0.7720848056537103\n"
     ]
    },
    {
     "data": {
      "image/png": "[encoded data removed]",
      "text/plain": [
       "<Figure size 1440x360 with 2 Axes>"
      ]
     },
     "metadata": {
      "needs_background": "light"
     },
     "output_type": "display_data"
    }
   ],
   "source": [
    "lib_gnb = GaussianNB()\n",
    "lib_gnb.fit(train_X, train_y)\n",
    "scores(lib_gnb, test_X, test_y)"
   ]
  },
  {
   "cell_type": "markdown",
   "metadata": {
    "id": "XpiFBfd83nYB"
   },
   "source": [
    "## Logistic Regression"
   ]
  },
  {
   "cell_type": "markdown",
   "metadata": {
    "id": "ZN2wfN7b3uCC"
   },
   "source": [
    "##### Собственный классификатор"
   ]
  },
  {
   "cell_type": "code",
   "execution_count": null,
   "metadata": {
    "id": "VYKrS8DiOe9U"
   },
   "outputs": [],
   "source": [
    "class LogisticRegression(BaseEstimator, ClassifierMixin):\n",
    "    def __init__(self, lr=0.1, batch=10, epochs=1, alpha=0.0001):\n",
    "        self.lr = lr\n",
    "        self.batch = batch\n",
    "        self.epochs = epochs\n",
    "        self.alpha = alpha\n",
    "    \n",
    "    def fit(self, data, labels):\n",
    "        self.w = np.random.normal(0, 1, (data.shape[1]+1,))\n",
    "        data = np.concatenate((data, np.ones((data.shape[0],1))), axis=1)\n",
    "        for _ in range(self.epochs):\n",
    "            for i in range(self.batch, len(data), self.batch):\n",
    "                data_batch = data[i-self.batch:i]\n",
    "                labels_batch = labels[i-self.batch:i]\n",
    "                \n",
    "                pred = self.sigmoid(np.dot(self.w, data_batch.T))\n",
    "                grad = 2 * self.alpha * self.w + np.dot(pred - labels_batch, data_batch)\n",
    "                \n",
    "                self.w -= self.lr * grad\n",
    "        return self\n",
    "    \n",
    "    def sigmoid(self, x):\n",
    "        return 1 / (1 + np.exp(-x))\n",
    "    \n",
    "    def predict(self, data):\n",
    "        return (self.sigmoid(np.concatenate((data, np.ones((data.shape[0],1))), axis=1).dot(self.w)) > 0.5).astype('int64')\n"
   ]
  },
  {
   "cell_type": "code",
   "execution_count": null,
   "metadata": {
    "colab": {
     "base_uri": "https://localhost:8080/"
    },
    "executionInfo": {
     "elapsed": 29541,
     "status": "ok",
     "timestamp": 1662054806439,
     "user": {
      "displayName": "Sunny Flowerr",
      "userId": "08019944996809046050"
     },
     "user_tz": -180
    },
    "id": "8AwWHLCHOkC-",
    "outputId": "a93338a8-0d2d-4920-cb04-c3695702375d"
   },
   "outputs": [
    {
     "name": "stdout",
     "output_type": "stream",
     "text": [
      "{'log__alpha': 0.01, 'log__batch': 10, 'log__epochs': 10, 'log__lr': 0.01}\n",
      "0.7631578947368421\n"
     ]
    }
   ],
   "source": [
    "gscv = GridSearchCV(Pipeline([('normalizer', Normalizer()), ('log', LogisticRegression())]),\n",
    "                    {'log__lr': [0.1, 0.01, 0.001], 'log__epochs': [1, 10, 100], \n",
    "                     'log__batch': [10, 100, 1000], 'log__alpha': [0.01, 0.001, 0.0001]})\n",
    "gscv.fit(train_X, train_y)\n",
    "print(gscv.best_params_, gscv.best_score_, sep='\\n')"
   ]
  },
  {
   "cell_type": "code",
   "execution_count": null,
   "metadata": {
    "colab": {
     "base_uri": "https://localhost:8080/",
     "height": 392
    },
    "executionInfo": {
     "elapsed": 610,
     "status": "ok",
     "timestamp": 1662054815044,
     "user": {
      "displayName": "Sunny Flowerr",
      "userId": "08019944996809046050"
     },
     "user_tz": -180
    },
    "id": "9lT2nqm2O6OY",
    "outputId": "9532bc50-8fd4-4b4a-a0a4-38a027a75291"
   },
   "outputs": [
    {
     "name": "stdout",
     "output_type": "stream",
     "text": [
      "Accuracy: 0.7315789473684211\n",
      "Precision: 0.7589641434262948\n",
      "Recall: 0.6731448763250883\n"
     ]
    },
    {
     "data": {
      "image/png": "[encoded data removed]",
      "text/plain": [
       "<Figure size 1440x360 with 2 Axes>"
      ]
     },
     "metadata": {
      "needs_background": "light"
     },
     "output_type": "display_data"
    }
   ],
   "source": [
    "my_log = gscv.best_estimator_\n",
    "scores(my_log, test_X, test_y)"
   ]
  },
  {
   "cell_type": "markdown",
   "metadata": {
    "id": "ZtBHZzaO7wKP"
   },
   "source": [
    "##### Готовый классификатор"
   ]
  },
  {
   "cell_type": "code",
   "execution_count": null,
   "metadata": {
    "colab": {
     "base_uri": "https://localhost:8080/"
    },
    "executionInfo": {
     "elapsed": 2218,
     "status": "ok",
     "timestamp": 1662054860544,
     "user": {
      "displayName": "Sunny Flowerr",
      "userId": "08019944996809046050"
     },
     "user_tz": -180
    },
    "id": "Ax13nBto7zoA",
    "outputId": "854679a5-a1b8-49e1-82e0-c4721c5168e6"
   },
   "outputs": [
    {
     "name": "stdout",
     "output_type": "stream",
     "text": [
      "{'log__alpha': 0.0001, 'log__eta0': 0.001, 'log__max_iter': 100}\n",
      "0.7605263157894737\n"
     ]
    }
   ],
   "source": [
    "gscv = GridSearchCV(Pipeline([('normalizer', Normalizer()), ('log', SGDClassifier(loss='log', learning_rate='constant'))]),\n",
    "                    {'log__eta0': [0.1, 0.01, 0.001], 'log__max_iter': [100, 1000, 5000], \n",
    "                     'log__alpha': [0.01, 0.001, 0.0001]})\n",
    "gscv.fit(train_X, train_y)\n",
    "print(gscv.best_params_, gscv.best_score_, sep='\\n')"
   ]
  },
  {
   "cell_type": "code",
   "execution_count": null,
   "metadata": {
    "colab": {
     "base_uri": "https://localhost:8080/",
     "height": 391
    },
    "executionInfo": {
     "elapsed": 17,
     "status": "ok",
     "timestamp": 1662054861720,
     "user": {
      "displayName": "Sunny Flowerr",
      "userId": "08019944996809046050"
     },
     "user_tz": -180
    },
    "id": "3O9uXa-_8Ai6",
    "outputId": "6def2b46-9cb0-4328-bd9b-f6030766cddf"
   },
   "outputs": [
    {
     "name": "stdout",
     "output_type": "stream",
     "text": [
      "Accuracy: 0.7359649122807017\n",
      "Precision: 0.7886710239651417\n",
      "Recall: 0.6395759717314488\n"
     ]
    },
    {
     "data": {
      "image/png": "[encoded data removed]",
      "text/plain": [
       "<Figure size 1440x360 with 2 Axes>"
      ]
     },
     "metadata": {
      "needs_background": "light"
     },
     "output_type": "display_data"
    }
   ],
   "source": [
    "lib_reg = gscv.best_estimator_\n",
    "scores(lib_reg, test_X, test_y)"
   ]
  }
 ],
 "metadata": {
  "colab": {
   "authorship_tag": "ABX9TyNWcnC7+LFBFh30qt0ybcCQ",
   "collapsed_sections": [],
   "provenance": []
  },
  "kernelspec": {
   "display_name": "Python 3",
   "language": "python",
   "name": "python3"
  },
  "language_info": {
   "codemirror_mode": {
    "name": "ipython",
    "version": 3
   },
   "file_extension": ".py",
   "mimetype": "text/x-python",
   "name": "python",
   "nbconvert_exporter": "python",
   "pygments_lexer": "ipython3",
   "version": "3.6.9"
  }
 },
 "nbformat": 4,
 "nbformat_minor": 1
}
